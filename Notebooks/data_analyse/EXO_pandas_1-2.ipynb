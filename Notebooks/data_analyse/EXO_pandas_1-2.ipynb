{
 "cells": [
  {
   "cell_type": "markdown",
   "id": "desirable-career",
   "metadata": {},
   "source": [
    "## Visualisation de relations continues\n",
    "Pour cette partie, nous utiliserons le dataset suivant : sales_predictions.csv que vous pouvez\n",
    "trouver dans le dossier Data Sources."
   ]
  },
  {
   "cell_type": "markdown",
   "id": "textile-feeling",
   "metadata": {},
   "source": [
    "#### 1) Importez les librairies qu’il vous faut"
   ]
  },
  {
   "cell_type": "code",
   "execution_count": 1,
   "id": "embedded-conservative",
   "metadata": {},
   "outputs": [],
   "source": [
    "import pandas as pd \n",
    "import numpy as np\n",
    "import seaborn as sns\n",
    "import matplotlib.pyplot as plt\n",
    "\n",
    "sns.set()"
   ]
  },
  {
   "cell_type": "code",
   "execution_count": 2,
   "id": "external-brake",
   "metadata": {
    "scrolled": true
   },
   "outputs": [],
   "source": [
    "sales_predictions = pd.read_csv(\"dataset/sales_predictions.csv\")"
   ]
  },
  {
   "cell_type": "markdown",
   "id": "sitting-subject",
   "metadata": {},
   "source": [
    "#### 2) En utilisant relplot(), construisez un graphique qui va vous permettre de voir l’évolution des prix par rapport au temps. Que pouvez vous voir ?"
   ]
  },
  {
   "cell_type": "code",
   "execution_count": null,
   "id": "iraqi-mexican",
   "metadata": {},
   "outputs": [],
   "source": [
    "sns.relplot(x='date', y='item_price', data=sales_predictions)"
   ]
  },
  {
   "cell_type": "markdown",
   "id": "upper-balance",
   "metadata": {},
   "source": [
    "#### 3) Corrigeons le problème de visualisation, en utilisant la fonction .sample() de Pandas, prenez un échantillons de 50 éléments dans votre dataset"
   ]
  },
  {
   "cell_type": "code",
   "execution_count": null,
   "id": "opposed-equipment",
   "metadata": {},
   "outputs": [],
   "source": [
    "sns.relplot(x='date', y='item_price', data=sales_predictions.sample(50))"
   ]
  },
  {
   "cell_type": "markdown",
   "id": "binary-planner",
   "metadata": {},
   "source": [
    "#### 4) Retentez de faire votre visualisation, créez une figure de taille (20,6). Que voyez vous ?"
   ]
  },
  {
   "cell_type": "code",
   "execution_count": null,
   "id": "boring-acting",
   "metadata": {
    "scrolled": false
   },
   "outputs": [],
   "source": [
    "sns.relplot(x='date', y='item_price', data=sales_predictions.sample(50), height=8, aspect=3)"
   ]
  },
  {
   "cell_type": "markdown",
   "id": "satellite-serial",
   "metadata": {},
   "source": [
    "#### 5) En utilisant la fonction pd.to_datetime(), convertissez votre colonne date en datetime"
   ]
  },
  {
   "cell_type": "code",
   "execution_count": null,
   "id": "assumed-omega",
   "metadata": {},
   "outputs": [],
   "source": [
    "sales_predictions.date = pd.to_datetime(sales_predictions.date)\n",
    "sales_predictions.date"
   ]
  },
  {
   "cell_type": "markdown",
   "id": "outstanding-beijing",
   "metadata": {},
   "source": [
    "#### 6) Retentez une dernière fois votre visualisation."
   ]
  },
  {
   "cell_type": "code",
   "execution_count": null,
   "id": "varied-latino",
   "metadata": {},
   "outputs": [],
   "source": [
    "sns.relplot(x='date', y='item_price', data=sales_predictions.sample(50), height=8, aspect=3, kind='line')"
   ]
  },
  {
   "cell_type": "code",
   "execution_count": null,
   "id": "subjective-volume",
   "metadata": {},
   "outputs": [],
   "source": [
    "sales_predictions.info()"
   ]
  }
 ],
 "metadata": {
  "kernelspec": {
   "display_name": "Python 3",
   "language": "python",
   "name": "python3"
  },
  "language_info": {
   "codemirror_mode": {
    "name": "ipython",
    "version": 3
   },
   "file_extension": ".py",
   "mimetype": "text/x-python",
   "name": "python",
   "nbconvert_exporter": "python",
   "pygments_lexer": "ipython3",
   "version": "3.7.3"
  }
 },
 "nbformat": 4,
 "nbformat_minor": 5
}

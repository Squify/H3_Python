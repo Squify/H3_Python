{
 "cells": [
  {
   "cell_type": "markdown",
   "id": "viral-correction",
   "metadata": {},
   "source": [
    "### 1 - Target somme"
   ]
  },
  {
   "cell_type": "code",
   "execution_count": 4,
   "id": "animated-candle",
   "metadata": {},
   "outputs": [
    {
     "data": {
      "text/plain": [
       "[11, -1]"
      ]
     },
     "execution_count": 4,
     "metadata": {},
     "output_type": "execute_result"
    }
   ],
   "source": [
    "def targetSomme(array, target):\n",
    "    for i in array:\n",
    "        for j in array:\n",
    "            if i + j == target and i != j:\n",
    "                arraySumForTarget = [i, j]\n",
    "                return arraySumForTarget\n",
    "            else:\n",
    "                arraySumForTarget = ['null']\n",
    "\n",
    "targetSomme([3, 5, -4, 8, 11, 1, -1, 6], 10)"
   ]
  },
  {
   "cell_type": "markdown",
   "id": "vertical-following",
   "metadata": {},
   "source": [
    "### 2 - La distance de Levenshtein"
   ]
  },
  {
   "cell_type": "code",
   "execution_count": null,
   "id": "premium-fruit",
   "metadata": {},
   "outputs": [],
   "source": []
  }
 ],
 "metadata": {
  "kernelspec": {
   "display_name": "Python 3",
   "language": "python",
   "name": "python3"
  },
  "language_info": {
   "codemirror_mode": {
    "name": "ipython",
    "version": 3
   },
   "file_extension": ".py",
   "mimetype": "text/x-python",
   "name": "python",
   "nbconvert_exporter": "python",
   "pygments_lexer": "ipython3",
   "version": "3.8.5"
  }
 },
 "nbformat": 4,
 "nbformat_minor": 5
}

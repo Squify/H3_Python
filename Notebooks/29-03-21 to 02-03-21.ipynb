{
 "cells": [
  {
   "cell_type": "markdown",
   "id": "viral-correction",
   "metadata": {},
   "source": [
    "## 1 - Target somme"
   ]
  },
  {
   "cell_type": "code",
   "execution_count": 4,
   "id": "animated-candle",
   "metadata": {},
   "outputs": [
    {
     "data": {
      "text/plain": [
       "[11, -1]"
      ]
     },
     "execution_count": 4,
     "metadata": {},
     "output_type": "execute_result"
    }
   ],
   "source": [
    "def targetSomme(array, target):\n",
    "    for i in array:\n",
    "        for j in array:\n",
    "            if i + j == target and i != j:\n",
    "                arraySumForTarget = [i, j]\n",
    "                return arraySumForTarget\n",
    "            else:\n",
    "                arraySumForTarget = ['null']\n",
    "\n",
    "targetSomme([3, 5, -4, 8, 11, 1, -1, 6], 10)"
   ]
  },
  {
   "cell_type": "code",
   "execution_count": 7,
   "id": "characteristic-richardson",
   "metadata": {},
   "outputs": [
    {
     "name": "stdout",
     "output_type": "stream",
     "text": [
      "no\n",
      "yes\n",
      "no\n",
      "no\n",
      "yes\n",
      "no\n",
      "yes\n",
      "no\n"
     ]
    }
   ],
   "source": [
    "data = {\n",
    "    3: 7,\n",
    "    5: 5,\n",
    "    -4: 14,\n",
    "    8: 2,\n",
    "    11: -1,\n",
    "    1: 9,\n",
    "    -1: 11,\n",
    "    6: 4\n",
    "}\n",
    "\n",
    "for key in data:\n",
    "    if (key in data.values()):\n",
    "        print('yes')\n",
    "    else:\n",
    "        print('no')"
   ]
  },
  {
   "cell_type": "code",
   "execution_count": 3,
   "id": "mobile-kingdom",
   "metadata": {},
   "outputs": [
    {
     "data": {
      "text/plain": [
       "[]"
      ]
     },
     "execution_count": 3,
     "metadata": {},
     "output_type": "execute_result"
    }
   ],
   "source": [
    "def targetSomme(liste, target):\n",
    "    dico = {}\n",
    "    for item in liste:\n",
    "        dico[target - item] = item\n",
    "        if (item in dico and dico[item] != item):\n",
    "            return [item, dico[item]]\n",
    "        return[]\n",
    "\n",
    "targetSomme([3, 5, -4, 8, 11, 1, -1, 6], 10)"
   ]
  },
  {
   "cell_type": "markdown",
   "id": "vertical-following",
   "metadata": {},
   "source": [
    "## 2 - La distance de Levenshtein"
   ]
  },
  {
   "cell_type": "code",
   "execution_count": 14,
   "id": "roman-heater",
   "metadata": {},
   "outputs": [
    {
     "data": {
      "text/plain": [
       "[0, 1, 2, 3, 4]"
      ]
     },
     "execution_count": 14,
     "metadata": {},
     "output_type": "execute_result"
    }
   ],
   "source": [
    "v = []\n",
    "n = 5\n",
    "for i in range(n):\n",
    "    v.append(i)\n",
    "v"
   ]
  },
  {
   "cell_type": "code",
   "execution_count": 12,
   "id": "premium-fruit",
   "metadata": {},
   "outputs": [
    {
     "data": {
      "text/plain": [
       "[0, 1, 2, 3, 4]"
      ]
     },
     "execution_count": 12,
     "metadata": {},
     "output_type": "execute_result"
    }
   ],
   "source": [
    "n = 5\n",
    "l = [i for i in range(n)]; l"
   ]
  },
  {
   "cell_type": "code",
   "execution_count": 27,
   "id": "monthly-darkness",
   "metadata": {},
   "outputs": [
    {
     "name": "stdout",
     "output_type": "stream",
     "text": [
      "1 0 1   -   1 1\n",
      "2 1 0   -   1 2\n",
      "3 2 0   -   1 3\n",
      "4 3 0   -   1 4\n",
      "5 4 0   -   1 5\n",
      "0 1 2   -   2 1\n",
      "0 0 0   -   2 2\n",
      "0 0 0   -   2 3\n",
      "0 0 0   -   2 4\n",
      "0 0 0   -   2 5\n",
      "0 2 3   -   3 1\n",
      "0 0 0   -   3 2\n",
      "0 0 0   -   3 3\n",
      "0 0 0   -   3 4\n",
      "0 0 0   -   3 5\n",
      "0 3 4   -   4 1\n",
      "0 0 0   -   4 2\n",
      "0 0 0   -   4 3\n",
      "0 0 0   -   4 4\n",
      "0 0 0   -   4 5\n",
      "0 4 5   -   5 1\n",
      "0 0 0   -   5 2\n",
      "0 0 0   -   5 3\n",
      "0 0 0   -   5 4\n",
      "0 0 0   -   5 5\n",
      "[0, 1, 2, 3, 4, 5]\n",
      "[1, 0, 0, 0, 0, 0]\n",
      "[2, 0, 0, 0, 0, 0]\n",
      "[3, 0, 0, 0, 0, 0]\n",
      "[4, 0, 0, 0, 0, 0]\n",
      "[5, 0, 0, 0, 0, 0]\n"
     ]
    }
   ],
   "source": [
    "def levenshtein(str1, str2):\n",
    "    mat = [ [0 for x in range(len(str2) +1) ] for y in range(len(str1) +1) ]\n",
    "    \n",
    "    for x in range(0, len(str1) + 1, 1):\n",
    "        for y in range(0, len(str2) + 1, 1):\n",
    "            if x == 0 :\n",
    "                mat[0][y] = y\n",
    "            elif y == 0 :\n",
    "                mat[x][0] = x\n",
    "            \n",
    "            if x > 0 and y > 0 : \n",
    "                a = mat[x-1][y]\n",
    "                b = mat[x-1][y-1]\n",
    "                c = mat[x][y-1]\n",
    "                print(a, b, c, '  -  ', x, y)\n",
    "            \n",
    "    for value in mat:\n",
    "        print (value)\n",
    "\n",
    "levenshtein(\"chien\", \"niche\")"
   ]
  },
  {
   "cell_type": "code",
   "execution_count": null,
   "id": "established-transfer",
   "metadata": {},
   "outputs": [],
   "source": []
  }
 ],
 "metadata": {
  "kernelspec": {
   "display_name": "Python 3",
   "language": "python",
   "name": "python3"
  },
  "language_info": {
   "codemirror_mode": {
    "name": "ipython",
    "version": 3
   },
   "file_extension": ".py",
   "mimetype": "text/x-python",
   "name": "python",
   "nbconvert_exporter": "python",
   "pygments_lexer": "ipython3",
   "version": "3.7.3"
  }
 },
 "nbformat": 4,
 "nbformat_minor": 5
}

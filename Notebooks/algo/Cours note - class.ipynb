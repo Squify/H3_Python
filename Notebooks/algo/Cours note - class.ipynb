{
 "cells": [
  {
   "cell_type": "markdown",
   "id": "centered-danger",
   "metadata": {},
   "source": [
    "## Vecteurs"
   ]
  },
  {
   "cell_type": "code",
   "execution_count": 1,
   "id": "automotive-nicholas",
   "metadata": {},
   "outputs": [],
   "source": [
    "class Vecteur:\n",
    "    \"\"\"\n",
    "    Class vecteur\n",
    "        x : float / int\n",
    "        y : float / int\n",
    "    \"\"\"\n",
    "    def __init__(self, x, y):\n",
    "        self.x = x\n",
    "        self.y = y\n",
    "    \n",
    "    def affiche(self):\n",
    "        print(self.x, self.y)\n",
    "        \n",
    "    def __repr__(self):\n",
    "        return \"x: {}, y: {}\".format(self.x, self.y)\n",
    "    \n",
    "    def __add__(self, other):\n",
    "        return Vecteur(self.x + other.x, self.y + other.y)"
   ]
  },
  {
   "cell_type": "code",
   "execution_count": null,
   "id": "modular-litigation",
   "metadata": {},
   "outputs": [],
   "source": []
  }
 ],
 "metadata": {
  "kernelspec": {
   "display_name": "Python 3",
   "language": "python",
   "name": "python3"
  },
  "language_info": {
   "codemirror_mode": {
    "name": "ipython",
    "version": 3
   },
   "file_extension": ".py",
   "mimetype": "text/x-python",
   "name": "python",
   "nbconvert_exporter": "python",
   "pygments_lexer": "ipython3",
   "version": "3.7.3"
  }
 },
 "nbformat": 4,
 "nbformat_minor": 5
}

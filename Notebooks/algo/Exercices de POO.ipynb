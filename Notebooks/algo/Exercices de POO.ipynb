{
 "cells": [
  {
   "cell_type": "markdown",
   "id": "laden-munich",
   "metadata": {},
   "source": [
    "## Exercices de POO\n",
    "### Le compte bancaire"
   ]
  },
  {
   "cell_type": "code",
   "execution_count": 78,
   "id": "excess-daughter",
   "metadata": {},
   "outputs": [
    {
     "name": "stdout",
     "output_type": "stream",
     "text": [
      "Duchmol possède 950 € sur son compte\n",
      "Dupont possède 1025 € sur son compte\n"
     ]
    }
   ],
   "source": [
    "class CompteBancaire:\n",
    "    def __init__(self, nom = 'Dupont', solde = 1000):\n",
    "        self.nom = nom\n",
    "        self.solde = solde\n",
    "    \n",
    "    def depot(self, somme):\n",
    "        self.solde += somme\n",
    "    \n",
    "    def retrait(self, somme):\n",
    "        self.solde -= somme\n",
    "    \n",
    "    def affiche(self):\n",
    "        print(self.nom, \"possède\", self.solde, \"€ sur son compte\")\n",
    "        \n",
    "        \n",
    "compte1 = CompteBancaire('Duchmol', 800)\n",
    "compte1.depot(350)\n",
    "compte1.retrait(200)\n",
    "compte1.affiche()\n",
    "\n",
    "compte2 = CompteBancaire()\n",
    "compte2.depot(25)\n",
    "compte2.affiche()"
   ]
  },
  {
   "cell_type": "markdown",
   "id": "greatest-british",
   "metadata": {},
   "source": [
    "### La surcharge d'opérateur"
   ]
  },
  {
   "cell_type": "code",
   "execution_count": 80,
   "id": "buried-google",
   "metadata": {},
   "outputs": [
    {
     "name": "stdout",
     "output_type": "stream",
     "text": [
      "P( 2.00 ,  3.00 )\n",
      "P( 1.00 ,  -5.00 ,  6.00 )\n"
     ]
    }
   ],
   "source": [
    "class Point:\n",
    "    def __init__(self, x, y, z = None):\n",
    "        self.x = x\n",
    "        self.y = y\n",
    "        self.z = z\n",
    "    \n",
    "    def ToString(self):\n",
    "        if self.z is not None:\n",
    "            print(\"P(\", \"{:.2f}\".format(self.x), ', ', \"{:.2f}\".format(self.y), ', ', \"{:.2f}\".format(self.z), \")\")\n",
    "        else:\n",
    "            print(\"P(\", \"{:.2f}\".format(self.x), ', ', \"{:.2f}\".format(self.y), \")\")\n",
    "        \n",
    "        \n",
    "P1 = Point(2, 3)\n",
    "P1.ToString()\n",
    "\n",
    "P2 = Point(1, -5, 6)\n",
    "P2.ToString()"
   ]
  },
  {
   "cell_type": "markdown",
   "id": "exclusive-operator",
   "metadata": {},
   "source": [
    "### L'héritage simple"
   ]
  },
  {
   "cell_type": "code",
   "execution_count": 81,
   "id": "thirty-skating",
   "metadata": {},
   "outputs": [
    {
     "name": "stdout",
     "output_type": "stream",
     "text": [
      "Nom : Ilyass\n",
      "Prénom : Math\n",
      "01 / 07 / 1982\n",
      "\n",
      "\n",
      "Nom : Ilyass\n",
      "Prénom : Math\n",
      "01 / 07 / 1985\n",
      "Salaire : 7865.548\n",
      "\n",
      "\n",
      "Nom : Ilyass\n",
      "Prénom : Math\n",
      "01 / 07 / 1988\n",
      "Salaire : 7865.548\n",
      "Service : Ressource humaine\n"
     ]
    }
   ],
   "source": [
    "class DateNaissance:\n",
    "    def __init__(self, jour, mois, année):\n",
    "        self.jour = jour\n",
    "        self.mois = mois\n",
    "        self.année = année\n",
    "    \n",
    "    def ToString(self):\n",
    "        print(\"{:0>2d}\".format(self.jour), \"/\", \"{:0>2d}\".format(self.mois), \"/\", \"{:0>2d}\".format(self.année))\n",
    "  \n",
    "\n",
    "class Personne():\n",
    "    def __init__(self, nom, prénom, DateNaissance):\n",
    "        self.nom = nom\n",
    "        self.prénom = prénom\n",
    "        self.DateNaissance = DateNaissance\n",
    "    \n",
    "    def afficher(self):\n",
    "        print(\"Nom :\", self.nom)\n",
    "        print(\"Prénom :\", self.prénom)\n",
    "        self.DateNaissance.ToString()\n",
    "        \n",
    "        \n",
    "class Employé(Personne):\n",
    "    def __init__(self, nom, prénom, DateNaissance, salaire):\n",
    "        super().__init__(nom, prénom, DateNaissance)    \n",
    "        self.salaire = salaire\n",
    "    \n",
    "    def afficher(self):\n",
    "        print(\"Nom :\", self.nom)\n",
    "        print(\"Prénom :\", self.prénom)\n",
    "        self.DateNaissance.ToString()\n",
    "        print(\"Salaire :\", self.salaire)\n",
    "        \n",
    "        \n",
    "class Chef(Employé):\n",
    "    def __init__(self, nom, prénom, DateNaissance, salaire, service):\n",
    "        super().__init__(nom, prénom, DateNaissance, salaire)    \n",
    "        self.service = service\n",
    "    \n",
    "    def afficher(self):\n",
    "        print(\"Nom :\", self.nom)\n",
    "        print(\"Prénom :\", self.prénom)\n",
    "        self.DateNaissance.ToString()\n",
    "        print(\"Salaire :\", self.salaire)\n",
    "        print(\"Service :\", self.service)\n",
    "        \n",
    "        \n",
    "P = Personne(\"Ilyass\", \"Math\", DateNaissance(1, 7, 1982))\n",
    "P.afficher()\n",
    "print(\"\\n\")\n",
    "\n",
    "E = Employé(\"Ilyass\", \"Math\", DateNaissance(1, 7, 1985), 7865.548)\n",
    "E.afficher()\n",
    "print(\"\\n\")\n",
    "\n",
    "Ch = Chef(\"Ilyass\", \"Math\", DateNaissance(1, 7, 1988), 7865.548, \"Ressource humaine\")\n",
    "Ch.afficher()"
   ]
  },
  {
   "cell_type": "code",
   "execution_count": 70,
   "id": "concrete-solomon",
   "metadata": {},
   "outputs": [
    {
     "name": "stdout",
     "output_type": "stream",
     "text": [
      "Employee Name:  John Doe\n"
     ]
    }
   ],
   "source": [
    "class A(object):\n",
    "    @classmethod\n",
    "    def name(self, employee):\n",
    "        print('Employee Name: ', employee)\n",
    " \n",
    " \n",
    "class B(A):\n",
    "    @classmethod\n",
    "    def name(self, employee):\n",
    "        super(B, self).name(employee)\n",
    " \n",
    " \n",
    "B.name('John Doe')"
   ]
  },
  {
   "cell_type": "markdown",
   "id": "vocational-technician",
   "metadata": {},
   "source": [
    "### Le polymorphisme"
   ]
  },
  {
   "cell_type": "code",
   "execution_count": 83,
   "id": "average-privacy",
   "metadata": {},
   "outputs": [
    {
     "name": "stdout",
     "output_type": "stream",
     "text": [
      "Lettre :\n",
      "Adresse destination : Lille\n",
      "Adresse expedition : Paris\n",
      "Poids : 80.00 grammes\n",
      "Mode d'envoi : normal\n",
      "Format : A4\n",
      "Prix du timbre : 0.2 €\n",
      "\n",
      "\n",
      "Colis :\n",
      "Adresse destination : Marrakeche\n",
      "Adresse expedition : Barcelone\n",
      "Poids : 3500.00 grammes\n",
      "Mode d'envoi : express\n",
      "Volume : 2.25 litres\n",
      "Prix du timbre : 3.9375 €\n"
     ]
    }
   ],
   "source": [
    "class Envoi:\n",
    "    def __init__(self, receiver, sender, poids, mode):\n",
    "        self.poids = poids\n",
    "        self.mode = mode\n",
    "        self.sender = sender\n",
    "        self.receiver = receiver\n",
    "\n",
    "        \n",
    "class Lettre(Envoi):\n",
    "    def __init__(self, receiver, sender, poids, mode, letterFormat):\n",
    "        super().__init__(receiver, sender, poids, mode)   \n",
    "        self.letterFormat = letterFormat\n",
    "        self.prixTimbre()\n",
    "    \n",
    "    def ToString(self):\n",
    "        print(\"Lettre :\")\n",
    "        print(\"Adresse destination :\", self.receiver)\n",
    "        print(\"Adresse expedition :\", self.sender)\n",
    "        print(\"Poids :\", \"{:.2f}\".format(self.poids), \"grammes\")\n",
    "        print(\"Mode d'envoi :\", self.mode)\n",
    "        print(\"Format :\", self.letterFormat)\n",
    "        print(\"Prix du timbre :\", self.prix, \"€\")\n",
    "        \n",
    "    def prixTimbre(self):\n",
    "        base = 2.5 if self.letterFormat == 'A4' else 3.5\n",
    "        if (self.mode == 'normal'):\n",
    "            self.prix = base * (self.poids / 1000)\n",
    "        elif (self.mode == 'express'):\n",
    "            self.prix = (base * (self.poids / 1000)) * 2\n",
    "        \n",
    "        \n",
    "class Colis(Envoi):\n",
    "    def __init__(self, receiver, sender, poids, mode, volume):\n",
    "        super().__init__(receiver, sender, poids, mode)   \n",
    "        self.volume = volume\n",
    "        self.prixTimbre()\n",
    "    \n",
    "    def ToString(self):\n",
    "        print(\"Colis :\")\n",
    "        print(\"Adresse destination :\", self.receiver)\n",
    "        print(\"Adresse expedition :\", self.sender)\n",
    "        print(\"Poids :\", \"{:.2f}\".format(self.poids), \"grammes\")\n",
    "        print(\"Mode d'envoi :\", self.mode)\n",
    "        print(\"Volume :\", self.volume, \"litres\")\n",
    "        print(\"Prix du timbre :\", self.prix, \"€\")\n",
    "        \n",
    "    def prixTimbre(self):\n",
    "        if (self.mode == 'normal'):\n",
    "            self.prix = 0.25 * self.volume * (self.poids / 1000)\n",
    "        elif (self.mode == 'express'):\n",
    "            self.prix = (0.25 * self.volume * (self.poids / 1000)) * 2\n",
    "\n",
    "            \n",
    "L1 = Lettre(\"Lille\", \"Paris\", 80, \"normal\", \"A4\")\n",
    "L1.ToString()\n",
    "print(\"\\n\")\n",
    "\n",
    "C1 = Colis(\"Marrakeche\", \"Barcelone\", 3500, \"express\", 2.25)\n",
    "C1.ToString()"
   ]
  },
  {
   "cell_type": "code",
   "execution_count": null,
   "id": "dominant-recorder",
   "metadata": {},
   "outputs": [],
   "source": []
  }
 ],
 "metadata": {
  "kernelspec": {
   "display_name": "Python 3",
   "language": "python",
   "name": "python3"
  },
  "language_info": {
   "codemirror_mode": {
    "name": "ipython",
    "version": 3
   },
   "file_extension": ".py",
   "mimetype": "text/x-python",
   "name": "python",
   "nbconvert_exporter": "python",
   "pygments_lexer": "ipython3",
   "version": "3.7.3"
  }
 },
 "nbformat": 4,
 "nbformat_minor": 5
}

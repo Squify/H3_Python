{
 "cells": [
  {
   "cell_type": "markdown",
   "id": "viral-correction",
   "metadata": {},
   "source": [
    "## 1 - Target somme"
   ]
  },
  {
   "cell_type": "code",
   "execution_count": 4,
   "id": "animated-candle",
   "metadata": {},
   "outputs": [
    {
     "data": {
      "text/plain": [
       "[11, -1]"
      ]
     },
     "execution_count": 4,
     "metadata": {},
     "output_type": "execute_result"
    }
   ],
   "source": [
    "def targetSomme(array, target):\n",
    "    for i in array:\n",
    "        for j in array:\n",
    "            if i + j == target and i != j:\n",
    "                arraySumForTarget = [i, j]\n",
    "                return arraySumForTarget\n",
    "            else:\n",
    "                arraySumForTarget = ['null']\n",
    "\n",
    "targetSomme([3, 5, -4, 8, 11, 1, -1, 6], 10)"
   ]
  },
  {
   "cell_type": "code",
   "execution_count": 7,
   "id": "characteristic-richardson",
   "metadata": {},
   "outputs": [
    {
     "name": "stdout",
     "output_type": "stream",
     "text": [
      "no\n",
      "yes\n",
      "no\n",
      "no\n",
      "yes\n",
      "no\n",
      "yes\n",
      "no\n"
     ]
    }
   ],
   "source": [
    "data = {\n",
    "    3: 7,\n",
    "    5: 5,\n",
    "    -4: 14,\n",
    "    8: 2,\n",
    "    11: -1,\n",
    "    1: 9,\n",
    "    -1: 11,\n",
    "    6: 4\n",
    "}\n",
    "\n",
    "for key in data:\n",
    "    if (key in data.values()):\n",
    "        print('yes')\n",
    "    else:\n",
    "        print('no')"
   ]
  },
  {
   "cell_type": "code",
   "execution_count": 3,
   "id": "mobile-kingdom",
   "metadata": {},
   "outputs": [
    {
     "data": {
      "text/plain": [
       "[]"
      ]
     },
     "execution_count": 3,
     "metadata": {},
     "output_type": "execute_result"
    }
   ],
   "source": [
    "def targetSomme(liste, target):\n",
    "    dico = {}\n",
    "    for item in liste:\n",
    "        dico[target - item] = item\n",
    "        if (item in dico and dico[item] != item):\n",
    "            return [item, dico[item]]\n",
    "        return[]\n",
    "\n",
    "targetSomme([3, 5, -4, 8, 11, 1, -1, 6], 10)"
   ]
  },
  {
   "cell_type": "markdown",
   "id": "vertical-following",
   "metadata": {},
   "source": [
    "## 2 - La distance de Levenshtein"
   ]
  },
  {
   "cell_type": "code",
   "execution_count": 14,
   "id": "roman-heater",
   "metadata": {},
   "outputs": [
    {
     "data": {
      "text/plain": [
       "[0, 1, 2, 3, 4]"
      ]
     },
     "execution_count": 14,
     "metadata": {},
     "output_type": "execute_result"
    }
   ],
   "source": [
    "v = []\n",
    "n = 5\n",
    "for i in range(n):\n",
    "    v.append(i)\n",
    "v"
   ]
  },
  {
   "cell_type": "code",
   "execution_count": 12,
   "id": "premium-fruit",
   "metadata": {},
   "outputs": [
    {
     "data": {
      "text/plain": [
       "[0, 1, 2, 3, 4]"
      ]
     },
     "execution_count": 12,
     "metadata": {},
     "output_type": "execute_result"
    }
   ],
   "source": [
    "n = 5\n",
    "l = [i for i in range(n)]; l"
   ]
  },
  {
   "cell_type": "markdown",
   "id": "copyrighted-birmingham",
   "metadata": {},
   "source": [
    "### try"
   ]
  },
  {
   "cell_type": "code",
   "execution_count": 24,
   "id": "monthly-darkness",
   "metadata": {},
   "outputs": [
    {
     "name": "stdout",
     "output_type": "stream",
     "text": [
      "c n\n",
      "a b c\n",
      "1 0 1  =>  0\n",
      "\n",
      "\n",
      "c i\n",
      "a b c\n",
      "2 1 1  =>  1\n",
      "\n",
      "\n",
      "c c\n",
      "a b c\n",
      "3 2 0  =>  0\n",
      "\n",
      "\n",
      "c h\n",
      "a b c\n",
      "4 3 0  =>  0\n",
      "\n",
      "\n",
      "c e\n",
      "a b c\n",
      "5 4 0  =>  0\n",
      "\n",
      "\n",
      "h n\n",
      "a b c\n",
      "1 1 2  =>  1\n",
      "\n",
      "\n",
      "h i\n",
      "a b c\n",
      "2 1 2  =>  1\n",
      "\n",
      "\n",
      "h c\n",
      "a b c\n",
      "0 2 2  =>  0\n",
      "\n",
      "\n",
      "h h\n",
      "a b c\n",
      "0 0 0  =>  0\n",
      "\n",
      "\n",
      "h e\n",
      "a b c\n",
      "0 0 0  =>  0\n",
      "\n",
      "\n",
      "i n\n",
      "a b c\n",
      "2 2 3  =>  2\n",
      "\n",
      "\n",
      "i i\n",
      "a b c\n",
      "2 2 2  =>  2\n",
      "\n",
      "\n",
      "i c\n",
      "a b c\n",
      "2 2 1  =>  1\n",
      "\n",
      "\n",
      "i h\n",
      "a b c\n",
      "0 2 2  =>  0\n",
      "\n",
      "\n",
      "i e\n",
      "a b c\n",
      "0 0 0  =>  0\n",
      "\n",
      "\n",
      "e n\n",
      "a b c\n",
      "2 3 4  =>  2\n",
      "\n",
      "\n",
      "e i\n",
      "a b c\n",
      "1 2 1  =>  1\n",
      "\n",
      "\n",
      "e c\n",
      "a b c\n",
      "2 1 0  =>  0\n",
      "\n",
      "\n",
      "e h\n",
      "a b c\n",
      "1 2 1  =>  1\n",
      "\n",
      "\n",
      "e e\n",
      "a b c\n",
      "0 1 2  =>  0\n",
      "\n",
      "\n",
      "n n\n",
      "a b c\n",
      "1 4 5  =>  1\n",
      "\n",
      "\n",
      "n i\n",
      "a b c\n",
      "0 1 1  =>  0\n",
      "\n",
      "\n",
      "n c\n",
      "a b c\n",
      "1 0 1  =>  0\n",
      "\n",
      "\n",
      "n h\n",
      "a b c\n",
      "2 1 1  =>  1\n",
      "\n",
      "\n",
      "n e\n",
      "a b c\n",
      "2 2 1  =>  1\n",
      "\n",
      "\n",
      "[0, 1, 2, 3, 4, 5]\n",
      "[1, 1, 2, 3, 3, 4]\n",
      "[2, 2, 2, 2, 2, 1]\n",
      "[3, 2, 1, 2, 1, 1]\n",
      "[4, 1, 0, 1, 2, 2]\n",
      "[5, 1, 1, 1, 1, 2]\n"
     ]
    }
   ],
   "source": [
    "def levenshtein(str1, str2):\n",
    "    mat = [ [0 for x in range(len(str2) +1) ] for y in range(len(str1) +1) ]\n",
    "    \n",
    "    for x in range(0, len(str1) + 1, 1):\n",
    "        for y in range(0, len(str2) + 1, 1):\n",
    "            if x == 0 :\n",
    "                mat[0][y] = y\n",
    "            elif y == 0 :\n",
    "                mat[x][0] = x\n",
    "            \n",
    "            if x > 0 and y > 0 :\n",
    "                a = mat[x-1][y]\n",
    "                b = mat[x-1][y-1]\n",
    "                c = mat[x][y-1]\n",
    "                \n",
    "                if str1[x-1] == str2[y-1] :\n",
    "                    mat[x][y] = b\n",
    "                else: \n",
    "                    mat[x][y] = (min([a, b, c]) + 1)\n",
    "                    \n",
    "                \n",
    "                print(str1[x-1], str2[y-1])\n",
    "                print('a b c')\n",
    "                print(a, b, c, ' => ', min([a, b, c]))\n",
    "                print('\\n')\n",
    "            \n",
    "    for value in mat:\n",
    "        print (value)\n",
    "\n",
    "levenshtein(\"chien\", \"niche\")"
   ]
  },
  {
   "cell_type": "markdown",
   "id": "frozen-prize",
   "metadata": {},
   "source": [
    "### solution"
   ]
  },
  {
   "cell_type": "code",
   "execution_count": 30,
   "id": "smaller-latino",
   "metadata": {},
   "outputs": [
    {
     "name": "stdout",
     "output_type": "stream",
     "text": [
      "[6, 2, 2, 3, 3, 4]\n",
      "[4, 3, 3, 3, 4, 3]\n",
      "[4, 4, 4, 3, 4, 4]\n",
      "[5, 4, 5, 4, 4, 5]\n",
      "[6, 5, 4, 5, 5, 5]\n",
      "[6, 6, 5, 5, 5, 6]\n"
     ]
    }
   ],
   "source": [
    "def levenshtein(str1, str2):\n",
    "    mat = [[i for i in range(len(str1) + 1)] for j in range(len(str2) + 1)]\n",
    "    for i in range(1, len(str2) + 1):\n",
    "        mat[i][0] = i\n",
    "    \n",
    "    for i in range(0, len(str2) + 1):\n",
    "        for j in range(0, len(str1) + 1) :\n",
    "            if i == 0 :\n",
    "                mat[0][j] = j\n",
    "            elif j == 0 :\n",
    "                mat[i][0] = i\n",
    "                \n",
    "            if str2[i-1] == str1[j-1] :\n",
    "                mat[i][j] = mat[i-1][j-1]\n",
    "            else :\n",
    "                mat[i][j] = 1 + min([mat[i-1][j-1], mat[i][j-1], mat[i-1][j]])\n",
    "            \n",
    "    for value in mat:\n",
    "        print (value)\n",
    "\n",
    "levenshtein(\"chien\", \"niche\")"
   ]
  },
  {
   "cell_type": "code",
   "execution_count": null,
   "id": "material-pepper",
   "metadata": {},
   "outputs": [],
   "source": []
  }
 ],
 "metadata": {
  "kernelspec": {
   "display_name": "Python 3",
   "language": "python",
   "name": "python3"
  },
  "language_info": {
   "codemirror_mode": {
    "name": "ipython",
    "version": 3
   },
   "file_extension": ".py",
   "mimetype": "text/x-python",
   "name": "python",
   "nbconvert_exporter": "python",
   "pygments_lexer": "ipython3",
   "version": "3.7.3"
  }
 },
 "nbformat": 4,
 "nbformat_minor": 5
}

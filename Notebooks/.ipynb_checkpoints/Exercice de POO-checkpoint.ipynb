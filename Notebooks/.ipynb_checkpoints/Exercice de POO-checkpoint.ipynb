{
 "cells": [
  {
   "cell_type": "markdown",
   "id": "brilliant-congo",
   "metadata": {},
   "source": [
    "### Le compte bancaire"
   ]
  },
  {
   "cell_type": "code",
   "execution_count": 10,
   "id": "rubber-child",
   "metadata": {},
   "outputs": [
    {
     "name": "stdout",
     "output_type": "stream",
     "text": [
      "950\n",
      "1025\n"
     ]
    }
   ],
   "source": [
    "class CompteBancaire:\n",
    "    \n",
    "    def __init__(self, nom = 'Dupont', solde = 1000):\n",
    "        self.nom = nom\n",
    "        self.solde = solde\n",
    "    \n",
    "    def depot(self, somme):\n",
    "        self.solde += somme\n",
    "    \n",
    "    def retrait(self, somme):\n",
    "        self.solde -= somme\n",
    "    \n",
    "    def affiche(self):\n",
    "        print(self.solde)\n",
    "        \n",
    "compte1 = CompteBancaire('Duchmol', 800)\n",
    "compte1.depot(350)\n",
    "compte1.retrait(200)\n",
    "compte1.affiche()\n",
    "\n",
    "compte2 = CompteBancaire()\n",
    "compte2.depot(25)\n",
    "compte2.affiche()"
   ]
  },
  {
   "cell_type": "markdown",
   "id": "worthy-screen",
   "metadata": {},
   "source": [
    "### La surcharge d'opérateur"
   ]
  },
  {
   "cell_type": "code",
   "execution_count": 18,
   "id": "cleared-thesis",
   "metadata": {},
   "outputs": [
    {
     "name": "stdout",
     "output_type": "stream",
     "text": [
      "P( 2.00 ,  3.00 )\n",
      "P( 1.00 ,  -5.00 ,  6.00 )\n"
     ]
    }
   ],
   "source": [
    "class Point:\n",
    "    def __init__(self, x, y, z = None):\n",
    "        self.x = x\n",
    "        self.y = y\n",
    "        self.z = z if z is not None else None\n",
    "    \n",
    "    def ToString(self):\n",
    "        if self.z is not None:\n",
    "            print(\"P(\",\"{:.2f}\".format(self.x), ', ', \"{:.2f}\".format(self.y), ', ', \"{:.2f}\".format(self.z), \")\")\n",
    "        else:\n",
    "            print(\"P(\",\"{:.2f}\".format(self.x), ', ', \"{:.2f}\".format(self.y), \")\")\n",
    "    \n",
    "        \n",
    "P1=Point(2,3)\n",
    "P1.ToString()\n",
    "\n",
    "P2=Point(1,-5,6)\n",
    "P2.ToString()"
   ]
  },
  {
   "cell_type": "code",
   "execution_count": null,
   "id": "delayed-insert",
   "metadata": {},
   "outputs": [],
   "source": []
  }
 ],
 "metadata": {
  "kernelspec": {
   "display_name": "Python 3",
   "language": "python",
   "name": "python3"
  },
  "language_info": {
   "codemirror_mode": {
    "name": "ipython",
    "version": 3
   },
   "file_extension": ".py",
   "mimetype": "text/x-python",
   "name": "python",
   "nbconvert_exporter": "python",
   "pygments_lexer": "ipython3",
   "version": "3.7.3"
  }
 },
 "nbformat": 4,
 "nbformat_minor": 5
}

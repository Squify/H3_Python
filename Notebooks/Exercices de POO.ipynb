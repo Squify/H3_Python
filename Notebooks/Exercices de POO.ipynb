{
 "cells": [
  {
   "cell_type": "markdown",
   "id": "starting-baseball",
   "metadata": {},
   "source": [
    "### Le compte bancaire"
   ]
  },
  {
   "cell_type": "code",
   "execution_count": 10,
   "id": "growing-progressive",
   "metadata": {},
   "outputs": [
    {
     "name": "stdout",
     "output_type": "stream",
     "text": [
      "950\n",
      "1025\n"
     ]
    }
   ],
   "source": [
    "class CompteBancaire:\n",
    "    def __init__(self, nom = 'Dupont', solde = 1000):\n",
    "        self.nom = nom\n",
    "        self.solde = solde\n",
    "    \n",
    "    def depot(self, somme):\n",
    "        self.solde += somme\n",
    "    \n",
    "    def retrait(self, somme):\n",
    "        self.solde -= somme\n",
    "    \n",
    "    def affiche(self):\n",
    "        print(self.solde)\n",
    "        \n",
    "compte1 = CompteBancaire('Duchmol', 800)\n",
    "compte1.depot(350)\n",
    "compte1.retrait(200)\n",
    "compte1.affiche()\n",
    "\n",
    "compte2 = CompteBancaire()\n",
    "compte2.depot(25)\n",
    "compte2.affiche()"
   ]
  },
  {
   "cell_type": "markdown",
   "id": "negative-pacific",
   "metadata": {},
   "source": [
    "### La surcharge d'opérateur"
   ]
  },
  {
   "cell_type": "code",
   "execution_count": 18,
   "id": "accredited-fitting",
   "metadata": {},
   "outputs": [
    {
     "name": "stdout",
     "output_type": "stream",
     "text": [
      "P( 2.00 ,  3.00 )\n",
      "P( 1.00 ,  -5.00 ,  6.00 )\n"
     ]
    }
   ],
   "source": [
    "class Point:\n",
    "    def __init__(self, x, y, z = None):\n",
    "        self.x = x\n",
    "        self.y = y\n",
    "        self.z = z if z is not None else None\n",
    "    \n",
    "    def ToString(self):\n",
    "        if self.z is not None:\n",
    "            print(\"P(\",\"{:.2f}\".format(self.x), ', ', \"{:.2f}\".format(self.y), ', ', \"{:.2f}\".format(self.z), \")\")\n",
    "        else:\n",
    "            print(\"P(\",\"{:.2f}\".format(self.x), ', ', \"{:.2f}\".format(self.y), \")\")\n",
    "        \n",
    "P1 = Point(2, 3)\n",
    "P1.ToString()\n",
    "\n",
    "P2 = Point(1, -5, 6)\n",
    "P2.ToString()"
   ]
  },
  {
   "cell_type": "markdown",
   "id": "valid-employment",
   "metadata": {},
   "source": [
    "### L'héritage simple"
   ]
  },
  {
   "cell_type": "code",
   "execution_count": 51,
   "id": "heard-crawford",
   "metadata": {},
   "outputs": [
    {
     "name": "stdout",
     "output_type": "stream",
     "text": [
      "Nom :  Ilyass\n",
      "Prénom :  Ilyass\n"
     ]
    },
    {
     "ename": "AttributeError",
     "evalue": "'Personne' object has no attribute 'DateNaissance'",
     "output_type": "error",
     "traceback": [
      "\u001b[0;31m---------------------------------------------------------------------------\u001b[0m",
      "\u001b[0;31mAttributeError\u001b[0m                            Traceback (most recent call last)",
      "\u001b[0;32m<ipython-input-51-ba9a09b48853>\u001b[0m in \u001b[0;36m<module>\u001b[0;34m\u001b[0m\n\u001b[1;32m     43\u001b[0m \u001b[0;34m\u001b[0m\u001b[0m\n\u001b[1;32m     44\u001b[0m \u001b[0mP\u001b[0m \u001b[0;34m=\u001b[0m \u001b[0mPersonne\u001b[0m\u001b[0;34m(\u001b[0m\u001b[0;34m\"Ilyass\"\u001b[0m\u001b[0;34m,\u001b[0m \u001b[0;34m\"Math\"\u001b[0m\u001b[0;34m,\u001b[0m \u001b[0;36m1\u001b[0m\u001b[0;34m,\u001b[0m \u001b[0;36m7\u001b[0m\u001b[0;34m,\u001b[0m \u001b[0;36m1982\u001b[0m\u001b[0;34m)\u001b[0m\u001b[0;34m\u001b[0m\u001b[0;34m\u001b[0m\u001b[0m\n\u001b[0;32m---> 45\u001b[0;31m \u001b[0mP\u001b[0m\u001b[0;34m.\u001b[0m\u001b[0mafficher\u001b[0m\u001b[0;34m(\u001b[0m\u001b[0;34m)\u001b[0m\u001b[0;34m\u001b[0m\u001b[0;34m\u001b[0m\u001b[0m\n\u001b[0m\u001b[1;32m     46\u001b[0m \u001b[0;34m\u001b[0m\u001b[0m\n\u001b[1;32m     47\u001b[0m \u001b[0mE\u001b[0m \u001b[0;34m=\u001b[0m \u001b[0memploye\u001b[0m\u001b[0;34m(\u001b[0m\u001b[0;34m\"Ilyass\"\u001b[0m\u001b[0;34m,\u001b[0m \u001b[0;34m\"Math\"\u001b[0m\u001b[0;34m,\u001b[0m \u001b[0;36m1\u001b[0m\u001b[0;34m,\u001b[0m \u001b[0;36m7\u001b[0m\u001b[0;34m,\u001b[0m \u001b[0;36m1985\u001b[0m\u001b[0;34m,\u001b[0m \u001b[0;36m7865.548\u001b[0m\u001b[0;34m)\u001b[0m\u001b[0;34m\u001b[0m\u001b[0;34m\u001b[0m\u001b[0m\n",
      "\u001b[0;32m<ipython-input-51-ba9a09b48853>\u001b[0m in \u001b[0;36mafficher\u001b[0;34m(self)\u001b[0m\n\u001b[1;32m     17\u001b[0m         \u001b[0mprint\u001b[0m\u001b[0;34m(\u001b[0m\u001b[0;34m\"Nom : \"\u001b[0m\u001b[0;34m,\u001b[0m \u001b[0mself\u001b[0m\u001b[0;34m.\u001b[0m\u001b[0mnom\u001b[0m\u001b[0;34m)\u001b[0m\u001b[0;34m\u001b[0m\u001b[0;34m\u001b[0m\u001b[0m\n\u001b[1;32m     18\u001b[0m         \u001b[0mprint\u001b[0m\u001b[0;34m(\u001b[0m\u001b[0;34m\"Prénom : \"\u001b[0m\u001b[0;34m,\u001b[0m \u001b[0mself\u001b[0m\u001b[0;34m.\u001b[0m\u001b[0mnom\u001b[0m\u001b[0;34m)\u001b[0m\u001b[0;34m\u001b[0m\u001b[0;34m\u001b[0m\u001b[0m\n\u001b[0;32m---> 19\u001b[0;31m         \u001b[0mself\u001b[0m\u001b[0;34m.\u001b[0m\u001b[0mDateNaissance\u001b[0m\u001b[0;34m.\u001b[0m\u001b[0mToString\u001b[0m\u001b[0;34m(\u001b[0m\u001b[0;34m)\u001b[0m\u001b[0;34m\u001b[0m\u001b[0;34m\u001b[0m\u001b[0m\n\u001b[0m\u001b[1;32m     20\u001b[0m \u001b[0;34m\u001b[0m\u001b[0m\n\u001b[1;32m     21\u001b[0m \u001b[0;32mclass\u001b[0m \u001b[0mEmployé\u001b[0m\u001b[0;34m(\u001b[0m\u001b[0mPersonne\u001b[0m\u001b[0;34m)\u001b[0m\u001b[0;34m:\u001b[0m\u001b[0;34m\u001b[0m\u001b[0;34m\u001b[0m\u001b[0m\n",
      "\u001b[0;31mAttributeError\u001b[0m: 'Personne' object has no attribute 'DateNaissance'"
     ]
    }
   ],
   "source": [
    "class DateNaissance:\n",
    "    def __init__(self, jour, mois, année):\n",
    "        self.jour = jour\n",
    "        self.mois = mois\n",
    "        self.année = année\n",
    "    \n",
    "    def ToString(self):\n",
    "        print(\"{:0>2d}\".format(self.jour), \"/\", \"{:0>2d}\".format(self.mois), \"/\", \"{:0>2d}\".format(self.année))\n",
    "            \n",
    "class Personne():\n",
    "    def __init__(self, nom, prénom, DateNaissance(jour, mois, année)):\n",
    "        self.nom = nom\n",
    "        self.prénom = prénom\n",
    "        self.DateNaissance = DateNaissance.__init__(self, jour, mois, année) \n",
    "    \n",
    "    def afficher(self):\n",
    "        print(\"Nom : \", self.nom)\n",
    "        print(\"Prénom : \", self.nom)\n",
    "        self.DateNaissance.ToString()\n",
    "        \n",
    "class Employé(Person):\n",
    "    def __init__(self, nom, prénom, DateNaissance(jour, mois, année), salaire):\n",
    "        super().__init__(nom, prénom, DateNaissance(jour, mois, année))    \n",
    "        self.salaire = salaire\n",
    "    \n",
    "    def afficher(self):\n",
    "        print(\"Nom : \", self.nom)\n",
    "        print(\"Prénom : \", self.nom)\n",
    "        self.DateNaissance.ToString()\n",
    "        print(\"Salaire : \", self.salaire)\n",
    "        \n",
    "class Chef(Employé):\n",
    "    def __init__(self, nom, prénom, DateNaissance(jour, mois, année), salaire, service):\n",
    "        super().__init__(nom, prénom, DateNaissance(jour, mois, année), salaire)    \n",
    "        self.service = service\n",
    "    \n",
    "    def afficher(self):\n",
    "        print(\"Nom : \", self.nom)\n",
    "        print(\"Prénom : \", self.nom)\n",
    "        self.DateNaissance.ToString()\n",
    "        print(\"Salaire : \", self.salaire)\n",
    "        print(\"Service : \", self.service)\n",
    "        \n",
    "P = Personne(\"Ilyass\", \"Math\", DateNaissance(1, 7, 1982))\n",
    "P.afficher()\n",
    "\n",
    "E = employe(\"Ilyass\", \"Math\", DateNaissance(1, 7, 1985), 7865.548)\n",
    "E.afficher()\n",
    "\n",
    "Ch = chef(\"Ilyass\", \"Math\", DateNaissance(1, 7, 1988), 7865.548, \"Ressource humaine\")\n",
    "Ch.afficher()"
   ]
  },
  {
   "cell_type": "markdown",
   "id": "manual-naples",
   "metadata": {},
   "source": [
    "### Le polymorphisme"
   ]
  },
  {
   "cell_type": "code",
   "execution_count": 49,
   "id": "chronic-ground",
   "metadata": {},
   "outputs": [
    {
     "name": "stdout",
     "output_type": "stream",
     "text": [
      "Lettre :\n",
      "Adresse destination : Lille\n",
      "Adresse expedition : Paris\n",
      "Poids : 80.00 grammes\n",
      "Mode d'envoi : normal\n",
      "Format : A4\n",
      "Prix du timbre : 2.58\n",
      "\n",
      "\n",
      "Colis :\n",
      "Adresse destination : Marrakeche\n",
      "Adresse expedition : Barcelone\n",
      "Poids : 3500.00 grammes\n",
      "Mode d'envoi : express\n",
      "Volume : 2.25 litres\n",
      "Prix du timbre : 8.125\n"
     ]
    }
   ],
   "source": [
    "class Envoi:\n",
    "    def __init__(self, receiver, sender, poids, mode):\n",
    "        self.poids = poids\n",
    "        self.mode = mode\n",
    "        self.sender = sender\n",
    "        self.receiver = receiver\n",
    "\n",
    "class Lettre(Envoi):\n",
    "    def __init__(self, receiver, sender, poids, mode, letterFormat):\n",
    "        super().__init__(receiver, sender, poids, mode)   \n",
    "        self.letterFormat = letterFormat\n",
    "        self.prixTimbre()\n",
    "    \n",
    "    def ToString(self):\n",
    "        print(\"Lettre :\")\n",
    "        print(\"Adresse destination :\", self.receiver)\n",
    "        print(\"Adresse expedition :\", self.sender)\n",
    "        print(\"Poids :\", \"{:.2f}\".format(self.poids), \"grammes\")\n",
    "        print(\"Mode d'envoi :\", self.mode)\n",
    "        print(\"Format :\", self.letterFormat)\n",
    "        print(\"Prix du timbre :\", self.prix)\n",
    "        \n",
    "    def prixTimbre(self):\n",
    "        base = 2.5 if self.letterFormat == 'A4' else 3.5\n",
    "        if (self.mode == 'normal'):\n",
    "            self.prix = base + (self.poids / 1000)\n",
    "        elif (self.mode == 'express'):\n",
    "            self.prix = (base + (self.poids / 1000)) * 2\n",
    "        \n",
    "class Colis(Envoi):\n",
    "    def __init__(self, receiver, sender, poids, mode, volume):\n",
    "        super().__init__(receiver, sender, poids, mode)   \n",
    "        self.volume = volume\n",
    "        self.prixTimbre()\n",
    "    \n",
    "    def ToString(self):\n",
    "        print(\"Colis :\")\n",
    "        print(\"Adresse destination :\", self.receiver)\n",
    "        print(\"Adresse expedition :\", self.sender)\n",
    "        print(\"Poids :\", \"{:.2f}\".format(self.poids), \"grammes\")\n",
    "        print(\"Mode d'envoi :\", self.mode)\n",
    "        print(\"Volume :\", self.volume, \"litres\")\n",
    "        print(\"Prix du timbre :\", self.prix)\n",
    "        \n",
    "    def prixTimbre(self):\n",
    "        if (self.mode == 'normal'):\n",
    "            self.prix = (0.25 * self.volume) + (self.poids / 1000)\n",
    "        elif (self.mode == 'express'):\n",
    "            self.prix = ((0.25 * self.volume) + (self.poids / 1000)) * 2\n",
    "\n",
    "L1 = Lettre(\"Lille\", \"Paris\", 80, \"normal\", \"A4\")\n",
    "L1.ToString()\n",
    "print(\"\\n\")\n",
    "C1 = Colis(\"Marrakeche\", \"Barcelone\", 3500, \"express\", 2.25)\n",
    "C1.ToString()"
   ]
  },
  {
   "cell_type": "code",
   "execution_count": null,
   "id": "gentle-preliminary",
   "metadata": {},
   "outputs": [],
   "source": []
  }
 ],
 "metadata": {
  "kernelspec": {
   "display_name": "Python 3",
   "language": "python",
   "name": "python3"
  },
  "language_info": {
   "codemirror_mode": {
    "name": "ipython",
    "version": 3
   },
   "file_extension": ".py",
   "mimetype": "text/x-python",
   "name": "python",
   "nbconvert_exporter": "python",
   "pygments_lexer": "ipython3",
   "version": "3.7.3"
  }
 },
 "nbformat": 4,
 "nbformat_minor": 5
}

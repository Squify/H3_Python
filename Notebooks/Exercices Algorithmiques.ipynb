{
 "cells": [
  {
   "cell_type": "markdown",
   "id": "mexican-scientist",
   "metadata": {},
   "source": [
    "# Exercices Algorithmiques\n",
    "## 1- Bases\n",
    "### 1.1 - Simple échange"
   ]
  },
  {
   "cell_type": "code",
   "execution_count": 31,
   "id": "smaller-machinery",
   "metadata": {},
   "outputs": [
    {
     "name": "stdout",
     "output_type": "stream",
     "text": [
      "La valeur de a est  20\n",
      "La valeur de b est  10\n"
     ]
    }
   ],
   "source": [
    "a = 10\n",
    "b = 20\n",
    "\n",
    "c = a\n",
    "a = b\n",
    "b = c\n",
    "\n",
    "print(\"La valeur de a est \", a)\n",
    "print(\"La valeur de b est \", b)"
   ]
  },
  {
   "cell_type": "markdown",
   "id": "simplified-olive",
   "metadata": {},
   "source": [
    "### 1.2 - Le carré"
   ]
  },
  {
   "cell_type": "code",
   "execution_count": 34,
   "id": "hourly-insurance",
   "metadata": {},
   "outputs": [
    {
     "name": "stdout",
     "output_type": "stream",
     "text": [
      "Saisir un nombre : \n",
      "45\n"
     ]
    }
   ],
   "source": [
    "print(\"Saisir un nombre : \")\n",
    "d = input()"
   ]
  },
  {
   "cell_type": "code",
   "execution_count": 35,
   "id": "inside-beverage",
   "metadata": {},
   "outputs": [
    {
     "name": "stdout",
     "output_type": "stream",
     "text": [
      "Le carré du nombre saisi est :  45 ² =  2025\n"
     ]
    }
   ],
   "source": [
    "print(\"Le carré du nombre saisi est : \", d, \"² = \", int(d)*int(d))"
   ]
  },
  {
   "cell_type": "markdown",
   "id": "adaptive-haven",
   "metadata": {},
   "source": [
    "### 1.3 - La condition"
   ]
  },
  {
   "cell_type": "code",
   "execution_count": 6,
   "id": "increased-driving",
   "metadata": {},
   "outputs": [
    {
     "name": "stdout",
     "output_type": "stream",
     "text": [
      "Saisir un nombre positif ou négatif :\n",
      "-67\n"
     ]
    }
   ],
   "source": [
    "print(\"Saisir un nombre positif ou négatif :\")\n",
    "d = input()"
   ]
  },
  {
   "cell_type": "code",
   "execution_count": 7,
   "id": "challenging-trail",
   "metadata": {},
   "outputs": [
    {
     "name": "stdout",
     "output_type": "stream",
     "text": [
      "Le nombre  -67 est négatif\n"
     ]
    }
   ],
   "source": [
    "if int(d) < 0 :\n",
    "    print(\"Le nombre \", d, \"est négatif\")\n",
    "elif int(d) == 0 :\n",
    "    print(\"Le nombre \", d, \"n'est ni positif ni négatif\")\n",
    "else :\n",
    "    print(\"Le nombre \", d, \"est positif\")"
   ]
  },
  {
   "cell_type": "markdown",
   "id": "federal-egypt",
   "metadata": {},
   "source": [
    "### 1.4 - Le produit"
   ]
  },
  {
   "cell_type": "code",
   "execution_count": 8,
   "id": "recovered-drunk",
   "metadata": {},
   "outputs": [
    {
     "name": "stdout",
     "output_type": "stream",
     "text": [
      "Saisir deux nombres positif ou négatif :\n",
      "123456\n",
      "65\n"
     ]
    }
   ],
   "source": [
    "print(\"Saisir deux nombres positif ou négatif :\")\n",
    "a, b = input(), input()"
   ]
  },
  {
   "cell_type": "code",
   "execution_count": 9,
   "id": "threaded-jewel",
   "metadata": {},
   "outputs": [
    {
     "name": "stdout",
     "output_type": "stream",
     "text": [
      "La somme des deux nombre est positive\n"
     ]
    }
   ],
   "source": [
    "if int(a)+int(b) < 0 :\n",
    "    print(\"La somme des deux nombre est négative\")\n",
    "elif int(a)+int(b) == 0 :\n",
    "    print(\"La somme des deux nombre n'est ni négative ni positive\")\n",
    "else :\n",
    "    print(\"La somme des deux nombre est positive\")"
   ]
  },
  {
   "cell_type": "markdown",
   "id": "reflected-parish",
   "metadata": {},
   "source": [
    "### 1.5 - Calcul"
   ]
  },
  {
   "cell_type": "code",
   "execution_count": 10,
   "id": "pediatric-operation",
   "metadata": {},
   "outputs": [
    {
     "name": "stdout",
     "output_type": "stream",
     "text": [
      "Saisir un nombre :\n",
      "453\n"
     ]
    }
   ],
   "source": [
    "print(\"Saisir un nombre :\")\n",
    "a = input()"
   ]
  },
  {
   "cell_type": "code",
   "execution_count": 11,
   "id": "spiritual-prescription",
   "metadata": {},
   "outputs": [
    {
     "name": "stdout",
     "output_type": "stream",
     "text": [
      "454\n",
      "455\n",
      "456\n",
      "457\n",
      "458\n",
      "459\n",
      "460\n",
      "461\n",
      "462\n",
      "463\n"
     ]
    }
   ],
   "source": [
    "i = int(a)+1\n",
    "while i <= (int(a) + 10):\n",
    "    print (i)\n",
    "    i += 1"
   ]
  },
  {
   "cell_type": "markdown",
   "id": "hourly-topic",
   "metadata": {},
   "source": [
    "### 1.6 - Additivité"
   ]
  },
  {
   "cell_type": "code",
   "execution_count": 12,
   "id": "balanced-sector",
   "metadata": {},
   "outputs": [
    {
     "name": "stdout",
     "output_type": "stream",
     "text": [
      "Saisir un nombre :\n",
      "120\n"
     ]
    }
   ],
   "source": [
    "print(\"Saisir un nombre :\")\n",
    "a = input()"
   ]
  },
  {
   "cell_type": "code",
   "execution_count": 17,
   "id": "impressive-bradley",
   "metadata": {},
   "outputs": [
    {
     "name": "stdout",
     "output_type": "stream",
     "text": [
      "L'addition de tous les nombres jusqu'à celui saisi est : 7260\n"
     ]
    }
   ],
   "source": [
    "somme = 0\n",
    "i = 1\n",
    "\n",
    "while i <= int(a):\n",
    "    somme += i\n",
    "    i += 1\n",
    "    \n",
    "print(\"L'addition de tous les nombres jusqu'à celui saisi est :\", somme)"
   ]
  },
  {
   "cell_type": "markdown",
   "id": "compatible-youth",
   "metadata": {},
   "source": [
    "## 2 - Les tableaux\n",
    "### 2.1 - La somme"
   ]
  },
  {
   "cell_type": "code",
   "execution_count": 21,
   "id": "hungry-evanescence",
   "metadata": {},
   "outputs": [
    {
     "name": "stdout",
     "output_type": "stream",
     "text": [
      "La somme de toutes les entrées du tableau est égale à : 147\n"
     ]
    }
   ],
   "source": [
    "tableau = [1, 2, 3, 45, 67, 83, -54]\n",
    "somme = 0\n",
    "\n",
    "for i in tableau:\n",
    "    somme += i\n",
    "    \n",
    "print(\"La somme de toutes les entrées du tableau est égale à :\", somme)"
   ]
  },
  {
   "cell_type": "markdown",
   "id": "prepared-recipe",
   "metadata": {},
   "source": [
    "### 2.2 - La somme : retour"
   ]
  },
  {
   "cell_type": "code",
   "execution_count": 30,
   "id": "forbidden-authorization",
   "metadata": {},
   "outputs": [
    {
     "name": "stdout",
     "output_type": "stream",
     "text": [
      "[6, 54, 10, 53, 55, 84, -45]\n"
     ]
    }
   ],
   "source": [
    "tableau = [1, 2, 3, 45, 67, 83, -54]\n",
    "tableau2 = [5, 52, 7, 8, -12, 1, 9]\n",
    "n = 0\n",
    "\n",
    "for i, j in zip(tableau, tableau2):\n",
    "    tableau[n] = i + j\n",
    "    n += 1\n",
    "    \n",
    "print(tableau)"
   ]
  },
  {
   "cell_type": "markdown",
   "id": "corrected-bermuda",
   "metadata": {},
   "source": [
    "### 2.3 - FacProduct"
   ]
  },
  {
   "cell_type": "code",
   "execution_count": 36,
   "id": "opposite-bradford",
   "metadata": {},
   "outputs": [
    {
     "name": "stdout",
     "output_type": "stream",
     "text": [
      "La somme des multiplications de chaque élément est de : 2351\n"
     ]
    }
   ],
   "source": [
    "n = 0\n",
    "somme = 0\n",
    "\n",
    "for i, j in zip(tableau, tableau2):\n",
    "    somme += i * j\n",
    "    n += 1\n",
    "    \n",
    "print(\"La somme des multiplications de chaque élément est de :\", somme)"
   ]
  },
  {
   "cell_type": "markdown",
   "id": "golden-tokyo",
   "metadata": {},
   "source": [
    "### 2.4 - Le plus grand"
   ]
  },
  {
   "cell_type": "code",
   "execution_count": 49,
   "id": "unexpected-flush",
   "metadata": {},
   "outputs": [
    {
     "name": "stdout",
     "output_type": "stream",
     "text": [
      "Combien d'entrées dans le tableau : \n",
      "4\n",
      "\n",
      "Saisir une nouvelle entrée :\n",
      "-6\n",
      "\n",
      "Saisir une nouvelle entrée :\n",
      "89\n",
      "\n",
      "Saisir une nouvelle entrée :\n",
      "65\n",
      "\n",
      "Saisir une nouvelle entrée :\n",
      "90\n",
      "La valeur maximale présente dans le tableau est : 90\n"
     ]
    }
   ],
   "source": [
    "print(\"Combien d'entrées dans le tableau : \")\n",
    "size = int(input())\n",
    "i = 0\n",
    "\n",
    "tableauDynamic = [ 0 for x in range(size)]\n",
    "\n",
    "while i < size: \n",
    "    print(\"\\nSaisir une nouvelle entrée :\")\n",
    "    tableauDynamic[i] = int(input())  \n",
    "    i += 1\n",
    "    \n",
    "print(\"\\nLa valeur maximale présente dans le tableau est :\", max(tableauDynamic))"
   ]
  },
  {
   "cell_type": "markdown",
   "id": "unable-london",
   "metadata": {},
   "source": [
    "## Bonus"
   ]
  },
  {
   "cell_type": "code",
   "execution_count": 16,
   "id": "matched-bowling",
   "metadata": {},
   "outputs": [
    {
     "name": "stdout",
     "output_type": "stream",
     "text": [
      "test 0\n",
      "test 6\n",
      "test 45\n",
      "test 55\n",
      "85\n"
     ]
    }
   ],
   "source": [
    "prices = [5, 11, 3, 50, 60, 90]\n",
    "k = 2 # nombre maximum de transactions\n",
    "\n",
    "profit = 0\n",
    "lastIndex = 0\n",
    "nextIndex = 1\n",
    "ok = 1\n",
    "\n",
    "while ok == 1: \n",
    "    print(\"test\", profit)\n",
    "\n",
    "    # On enlève au profit ce qu'on dépense\n",
    "    profit -= prices[lastIndex]\n",
    "    # Si la valeur suivante est plus petite ou égale on vend pas\n",
    "    while prices[nextIndex] <= prices[lastIndex]:\n",
    "        nextIndex += 1\n",
    "    # On ajoute au profit quand on vend\n",
    "    profit += prices[nextIndex]\n",
    "    lastIndex = nextIndex\n",
    "    nextIndex += 1\n",
    "    \n",
    "    # Tant qu'on a pas regardé tout le tableau on quitte pas\n",
    "    if nextIndex == len(prices):\n",
    "        ok = 0\n",
    "        \n",
    "print(profit)\n",
    "# Bon ça marche pas mais c'est pas grave"
   ]
  },
  {
   "cell_type": "code",
   "execution_count": null,
   "id": "improving-branch",
   "metadata": {},
   "outputs": [],
   "source": []
  }
 ],
 "metadata": {
  "kernelspec": {
   "display_name": "Python 3",
   "language": "python",
   "name": "python3"
  },
  "language_info": {
   "codemirror_mode": {
    "name": "ipython",
    "version": 3
   },
   "file_extension": ".py",
   "mimetype": "text/x-python",
   "name": "python",
   "nbconvert_exporter": "python",
   "pygments_lexer": "ipython3",
   "version": "3.8.5"
  }
 },
 "nbformat": 4,
 "nbformat_minor": 5
}
